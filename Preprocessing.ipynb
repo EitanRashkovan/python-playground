{
  "cells": [
    {
      "cell_type": "markdown",
      "metadata": {
        "id": "view-in-github",
        "colab_type": "text"
      },
      "source": [
        "<a href=\"https://colab.research.google.com/github/EitanRashkovan/python-playground/blob/main/Preprocessing.ipynb\" target=\"_parent\"><img src=\"https://colab.research.google.com/assets/colab-badge.svg\" alt=\"Open In Colab\"/></a>"
      ]
    },
    {
      "cell_type": "code",
      "execution_count": null,
      "metadata": {
        "id": "eV1CFUdoQAiY"
      },
      "outputs": [],
      "source": [
        "import numpy as np\n",
        "import pandas as pd\n",
        "import seaborn as sns\n",
        "import matplotlib.pyplot as plt\n",
        "from sklearn.model_selection import train_test_split"
      ]
    },
    {
      "cell_type": "code",
      "source": [
        "!pip uninstall emoji\n",
        "!pip install emoji==1.7\n",
        "!pip install emoji-unicode\n",
        "import emoji"
      ],
      "metadata": {
        "colab": {
          "base_uri": "https://localhost:8080/"
        },
        "id": "XujLBVJCfTON",
        "outputId": "9863d00e-f89b-4662-c321-0721c0ec4aee"
      },
      "execution_count": null,
      "outputs": [
        {
          "output_type": "stream",
          "name": "stdout",
          "text": [
            "\u001b[33mWARNING: Skipping emoji as it is not installed.\u001b[0m\n",
            "Looking in indexes: https://pypi.org/simple, https://us-python.pkg.dev/colab-wheels/public/simple/\n",
            "Collecting emoji==1.7\n",
            "  Downloading emoji-1.7.0.tar.gz (175 kB)\n",
            "\u001b[K     |████████████████████████████████| 175 kB 4.9 MB/s \n",
            "\u001b[?25hBuilding wheels for collected packages: emoji\n",
            "  Building wheel for emoji (setup.py) ... \u001b[?25l\u001b[?25hdone\n",
            "  Created wheel for emoji: filename=emoji-1.7.0-py3-none-any.whl size=171046 sha256=2ebcbebfe2036132ad10c5fdc3da9a18c0cc8d938814177456111b91e6a440ba\n",
            "  Stored in directory: /root/.cache/pip/wheels/8a/4e/b6/57b01db010d17ef6ea9b40300af725ef3e210cb1acfb7ac8b6\n",
            "Successfully built emoji\n",
            "Installing collected packages: emoji\n",
            "Successfully installed emoji-1.7.0\n",
            "Looking in indexes: https://pypi.org/simple, https://us-python.pkg.dev/colab-wheels/public/simple/\n",
            "Collecting emoji-unicode\n",
            "  Downloading emoji-unicode-0.4.tar.gz (24 kB)\n",
            "Building wheels for collected packages: emoji-unicode\n",
            "  Building wheel for emoji-unicode (setup.py) ... \u001b[?25l\u001b[?25hdone\n",
            "  Created wheel for emoji-unicode: filename=emoji_unicode-0.4-py3-none-any.whl size=35551 sha256=a8dc09fab0d5c9569dd4db4eb32a9732c847903b0f5806de5d878b11edc77308\n",
            "  Stored in directory: /root/.cache/pip/wheels/a3/8b/a7/6a8cbfe4e8ae727c1de49591f7b7442aade5794777376de3e0\n",
            "Successfully built emoji-unicode\n",
            "Installing collected packages: emoji-unicode\n",
            "Successfully installed emoji-unicode-0.4\n"
          ]
        }
      ]
    },
    {
      "cell_type": "code",
      "execution_count": null,
      "metadata": {
        "id": "7PC0wI79R8Gi",
        "outputId": "ffe7a744-7208-4fe6-bfb6-2f5e97c4be1b",
        "colab": {
          "base_uri": "https://localhost:8080/"
        }
      },
      "outputs": [
        {
          "output_type": "stream",
          "name": "stdout",
          "text": [
            "Mounted at /content/drive\n"
          ]
        }
      ],
      "source": [
        "from google.colab import drive\n",
        "drive.mount('/content/drive')"
      ]
    },
    {
      "cell_type": "code",
      "execution_count": null,
      "metadata": {
        "id": "gakw0aKLST36",
        "colab": {
          "base_uri": "https://localhost:8080/"
        },
        "outputId": "a1abf2b9-44b0-41b2-e931-ec03d66cb771"
      },
      "outputs": [
        {
          "output_type": "stream",
          "name": "stdout",
          "text": [
            "/content/drive/Shared drives/197\n"
          ]
        }
      ],
      "source": [
        "\n",
        "%cd \"/content/drive/Shared drives/197\""
      ]
    },
    {
      "cell_type": "code",
      "execution_count": null,
      "metadata": {
        "id": "DzK55dTASRSD"
      },
      "outputs": [],
      "source": [
        "df = pd.read_csv(\"twitter_clean.csv\", lineterminator='\\n')"
      ]
    },
    {
      "cell_type": "code",
      "source": [
        "df"
      ],
      "metadata": {
        "id": "ENaA9605aVPu",
        "colab": {
          "base_uri": "https://localhost:8080/",
          "height": 818
        },
        "outputId": "38b5ddeb-f6ae-47c2-fd94-9256a0c550e9"
      },
      "execution_count": null,
      "outputs": [
        {
          "output_type": "execute_result",
          "data": {
            "text/plain": [
              "       Unnamed: 0  Unnamed: 0.1  default_profile  default_profile_image  \\\n",
              "0            5396          5396             True                  False   \n",
              "1            8671          8671             True                  False   \n",
              "2            1733          1733             True                  False   \n",
              "3           24819         24819            False                  False   \n",
              "4            4622          4622            False                  False   \n",
              "...           ...           ...              ...                    ...   \n",
              "16407       37430         37430             True                  False   \n",
              "16408       37431         37431            False                  False   \n",
              "16409       37433         37433             True                  False   \n",
              "16410       37434         37434            False                  False   \n",
              "16411       37436         37436            False                  False   \n",
              "\n",
              "                                             description  favourites_count  \\\n",
              "0      Behind every argument is someone's ignorance. ...                24   \n",
              "1      #RatesTrading #FuturesTrading #Options #Stocks...               145   \n",
              "2            Come to my site 🧡🧡🧡 https://t.co/SZF33v4Euh               319   \n",
              "3      Do you like fast? Come in! 😻😻😻 https://t.co/NP...                80   \n",
              "4      Model / DC fan. Waiting you at https://t.co/Wo...               226   \n",
              "...                                                  ...               ...   \n",
              "16407  Mom, safety professional, chemistry nerd, beer...              6365   \n",
              "16408  MD & Chairman,ThinkInk Picturez WRITER/DIRECTO...             24720   \n",
              "16409  Role: Stock Taker. Past Roles: Nanny, Sales As...               651   \n",
              "16410                    KINGDOM LANDLORD #FreeCornBread              8839   \n",
              "16411  Just a good guy wrapped up in a bad system.\\nA...               967   \n",
              "\n",
              "       followers_count  friends_count  geo_enabled  statuses_count  verified  \\\n",
              "0                    0             35        False             200     False   \n",
              "1                   44            202        False             313     False   \n",
              "2                   10              0        False              55     False   \n",
              "3                    1              0        False              14     False   \n",
              "4                  200              0         True             521     False   \n",
              "...                ...            ...          ...             ...       ...   \n",
              "16407               77            226         True             788     False   \n",
              "16408            85561           2579         True           21468     False   \n",
              "16409              139           1105        False             340     False   \n",
              "16410          1121486            605         True           24970      True   \n",
              "16411              138            166         True             982     False   \n",
              "\n",
              "       average_tweets_per_day  account_age_days account_type  location_known  \n",
              "0                       0.155              1287          bot           False  \n",
              "1                       0.273              1148          bot            True  \n",
              "2                       0.016              3346          bot            True  \n",
              "3                       0.005              2667          bot            True  \n",
              "4                       0.174              2987          bot           False  \n",
              "...                       ...               ...          ...             ...  \n",
              "16407                   0.499              1580        human           False  \n",
              "16408                   5.580              3847        human           False  \n",
              "16409                   0.084              4028        human           False  \n",
              "16410                   8.976              2782        human            True  \n",
              "16411                   0.339              2899        human           False  \n",
              "\n",
              "[16412 rows x 15 columns]"
            ],
            "text/html": [
              "\n",
              "  <div id=\"df-82d84ebe-7871-4902-b65f-1c5f60178780\">\n",
              "    <div class=\"colab-df-container\">\n",
              "      <div>\n",
              "<style scoped>\n",
              "    .dataframe tbody tr th:only-of-type {\n",
              "        vertical-align: middle;\n",
              "    }\n",
              "\n",
              "    .dataframe tbody tr th {\n",
              "        vertical-align: top;\n",
              "    }\n",
              "\n",
              "    .dataframe thead th {\n",
              "        text-align: right;\n",
              "    }\n",
              "</style>\n",
              "<table border=\"1\" class=\"dataframe\">\n",
              "  <thead>\n",
              "    <tr style=\"text-align: right;\">\n",
              "      <th></th>\n",
              "      <th>Unnamed: 0</th>\n",
              "      <th>Unnamed: 0.1</th>\n",
              "      <th>default_profile</th>\n",
              "      <th>default_profile_image</th>\n",
              "      <th>description</th>\n",
              "      <th>favourites_count</th>\n",
              "      <th>followers_count</th>\n",
              "      <th>friends_count</th>\n",
              "      <th>geo_enabled</th>\n",
              "      <th>statuses_count</th>\n",
              "      <th>verified</th>\n",
              "      <th>average_tweets_per_day</th>\n",
              "      <th>account_age_days</th>\n",
              "      <th>account_type</th>\n",
              "      <th>location_known</th>\n",
              "    </tr>\n",
              "  </thead>\n",
              "  <tbody>\n",
              "    <tr>\n",
              "      <th>0</th>\n",
              "      <td>5396</td>\n",
              "      <td>5396</td>\n",
              "      <td>True</td>\n",
              "      <td>False</td>\n",
              "      <td>Behind every argument is someone's ignorance. ...</td>\n",
              "      <td>24</td>\n",
              "      <td>0</td>\n",
              "      <td>35</td>\n",
              "      <td>False</td>\n",
              "      <td>200</td>\n",
              "      <td>False</td>\n",
              "      <td>0.155</td>\n",
              "      <td>1287</td>\n",
              "      <td>bot</td>\n",
              "      <td>False</td>\n",
              "    </tr>\n",
              "    <tr>\n",
              "      <th>1</th>\n",
              "      <td>8671</td>\n",
              "      <td>8671</td>\n",
              "      <td>True</td>\n",
              "      <td>False</td>\n",
              "      <td>#RatesTrading #FuturesTrading #Options #Stocks...</td>\n",
              "      <td>145</td>\n",
              "      <td>44</td>\n",
              "      <td>202</td>\n",
              "      <td>False</td>\n",
              "      <td>313</td>\n",
              "      <td>False</td>\n",
              "      <td>0.273</td>\n",
              "      <td>1148</td>\n",
              "      <td>bot</td>\n",
              "      <td>True</td>\n",
              "    </tr>\n",
              "    <tr>\n",
              "      <th>2</th>\n",
              "      <td>1733</td>\n",
              "      <td>1733</td>\n",
              "      <td>True</td>\n",
              "      <td>False</td>\n",
              "      <td>Come to my site 🧡🧡🧡 https://t.co/SZF33v4Euh</td>\n",
              "      <td>319</td>\n",
              "      <td>10</td>\n",
              "      <td>0</td>\n",
              "      <td>False</td>\n",
              "      <td>55</td>\n",
              "      <td>False</td>\n",
              "      <td>0.016</td>\n",
              "      <td>3346</td>\n",
              "      <td>bot</td>\n",
              "      <td>True</td>\n",
              "    </tr>\n",
              "    <tr>\n",
              "      <th>3</th>\n",
              "      <td>24819</td>\n",
              "      <td>24819</td>\n",
              "      <td>False</td>\n",
              "      <td>False</td>\n",
              "      <td>Do you like fast? Come in! 😻😻😻 https://t.co/NP...</td>\n",
              "      <td>80</td>\n",
              "      <td>1</td>\n",
              "      <td>0</td>\n",
              "      <td>False</td>\n",
              "      <td>14</td>\n",
              "      <td>False</td>\n",
              "      <td>0.005</td>\n",
              "      <td>2667</td>\n",
              "      <td>bot</td>\n",
              "      <td>True</td>\n",
              "    </tr>\n",
              "    <tr>\n",
              "      <th>4</th>\n",
              "      <td>4622</td>\n",
              "      <td>4622</td>\n",
              "      <td>False</td>\n",
              "      <td>False</td>\n",
              "      <td>Model / DC fan. Waiting you at https://t.co/Wo...</td>\n",
              "      <td>226</td>\n",
              "      <td>200</td>\n",
              "      <td>0</td>\n",
              "      <td>True</td>\n",
              "      <td>521</td>\n",
              "      <td>False</td>\n",
              "      <td>0.174</td>\n",
              "      <td>2987</td>\n",
              "      <td>bot</td>\n",
              "      <td>False</td>\n",
              "    </tr>\n",
              "    <tr>\n",
              "      <th>...</th>\n",
              "      <td>...</td>\n",
              "      <td>...</td>\n",
              "      <td>...</td>\n",
              "      <td>...</td>\n",
              "      <td>...</td>\n",
              "      <td>...</td>\n",
              "      <td>...</td>\n",
              "      <td>...</td>\n",
              "      <td>...</td>\n",
              "      <td>...</td>\n",
              "      <td>...</td>\n",
              "      <td>...</td>\n",
              "      <td>...</td>\n",
              "      <td>...</td>\n",
              "      <td>...</td>\n",
              "    </tr>\n",
              "    <tr>\n",
              "      <th>16407</th>\n",
              "      <td>37430</td>\n",
              "      <td>37430</td>\n",
              "      <td>True</td>\n",
              "      <td>False</td>\n",
              "      <td>Mom, safety professional, chemistry nerd, beer...</td>\n",
              "      <td>6365</td>\n",
              "      <td>77</td>\n",
              "      <td>226</td>\n",
              "      <td>True</td>\n",
              "      <td>788</td>\n",
              "      <td>False</td>\n",
              "      <td>0.499</td>\n",
              "      <td>1580</td>\n",
              "      <td>human</td>\n",
              "      <td>False</td>\n",
              "    </tr>\n",
              "    <tr>\n",
              "      <th>16408</th>\n",
              "      <td>37431</td>\n",
              "      <td>37431</td>\n",
              "      <td>False</td>\n",
              "      <td>False</td>\n",
              "      <td>MD &amp; Chairman,ThinkInk Picturez WRITER/DIRECTO...</td>\n",
              "      <td>24720</td>\n",
              "      <td>85561</td>\n",
              "      <td>2579</td>\n",
              "      <td>True</td>\n",
              "      <td>21468</td>\n",
              "      <td>False</td>\n",
              "      <td>5.580</td>\n",
              "      <td>3847</td>\n",
              "      <td>human</td>\n",
              "      <td>False</td>\n",
              "    </tr>\n",
              "    <tr>\n",
              "      <th>16409</th>\n",
              "      <td>37433</td>\n",
              "      <td>37433</td>\n",
              "      <td>True</td>\n",
              "      <td>False</td>\n",
              "      <td>Role: Stock Taker. Past Roles: Nanny, Sales As...</td>\n",
              "      <td>651</td>\n",
              "      <td>139</td>\n",
              "      <td>1105</td>\n",
              "      <td>False</td>\n",
              "      <td>340</td>\n",
              "      <td>False</td>\n",
              "      <td>0.084</td>\n",
              "      <td>4028</td>\n",
              "      <td>human</td>\n",
              "      <td>False</td>\n",
              "    </tr>\n",
              "    <tr>\n",
              "      <th>16410</th>\n",
              "      <td>37434</td>\n",
              "      <td>37434</td>\n",
              "      <td>False</td>\n",
              "      <td>False</td>\n",
              "      <td>KINGDOM LANDLORD #FreeCornBread</td>\n",
              "      <td>8839</td>\n",
              "      <td>1121486</td>\n",
              "      <td>605</td>\n",
              "      <td>True</td>\n",
              "      <td>24970</td>\n",
              "      <td>True</td>\n",
              "      <td>8.976</td>\n",
              "      <td>2782</td>\n",
              "      <td>human</td>\n",
              "      <td>True</td>\n",
              "    </tr>\n",
              "    <tr>\n",
              "      <th>16411</th>\n",
              "      <td>37436</td>\n",
              "      <td>37436</td>\n",
              "      <td>False</td>\n",
              "      <td>False</td>\n",
              "      <td>Just a good guy wrapped up in a bad system.\\nA...</td>\n",
              "      <td>967</td>\n",
              "      <td>138</td>\n",
              "      <td>166</td>\n",
              "      <td>True</td>\n",
              "      <td>982</td>\n",
              "      <td>False</td>\n",
              "      <td>0.339</td>\n",
              "      <td>2899</td>\n",
              "      <td>human</td>\n",
              "      <td>False</td>\n",
              "    </tr>\n",
              "  </tbody>\n",
              "</table>\n",
              "<p>16412 rows × 15 columns</p>\n",
              "</div>\n",
              "      <button class=\"colab-df-convert\" onclick=\"convertToInteractive('df-82d84ebe-7871-4902-b65f-1c5f60178780')\"\n",
              "              title=\"Convert this dataframe to an interactive table.\"\n",
              "              style=\"display:none;\">\n",
              "        \n",
              "  <svg xmlns=\"http://www.w3.org/2000/svg\" height=\"24px\"viewBox=\"0 0 24 24\"\n",
              "       width=\"24px\">\n",
              "    <path d=\"M0 0h24v24H0V0z\" fill=\"none\"/>\n",
              "    <path d=\"M18.56 5.44l.94 2.06.94-2.06 2.06-.94-2.06-.94-.94-2.06-.94 2.06-2.06.94zm-11 1L8.5 8.5l.94-2.06 2.06-.94-2.06-.94L8.5 2.5l-.94 2.06-2.06.94zm10 10l.94 2.06.94-2.06 2.06-.94-2.06-.94-.94-2.06-.94 2.06-2.06.94z\"/><path d=\"M17.41 7.96l-1.37-1.37c-.4-.4-.92-.59-1.43-.59-.52 0-1.04.2-1.43.59L10.3 9.45l-7.72 7.72c-.78.78-.78 2.05 0 2.83L4 21.41c.39.39.9.59 1.41.59.51 0 1.02-.2 1.41-.59l7.78-7.78 2.81-2.81c.8-.78.8-2.07 0-2.86zM5.41 20L4 18.59l7.72-7.72 1.47 1.35L5.41 20z\"/>\n",
              "  </svg>\n",
              "      </button>\n",
              "      \n",
              "  <style>\n",
              "    .colab-df-container {\n",
              "      display:flex;\n",
              "      flex-wrap:wrap;\n",
              "      gap: 12px;\n",
              "    }\n",
              "\n",
              "    .colab-df-convert {\n",
              "      background-color: #E8F0FE;\n",
              "      border: none;\n",
              "      border-radius: 50%;\n",
              "      cursor: pointer;\n",
              "      display: none;\n",
              "      fill: #1967D2;\n",
              "      height: 32px;\n",
              "      padding: 0 0 0 0;\n",
              "      width: 32px;\n",
              "    }\n",
              "\n",
              "    .colab-df-convert:hover {\n",
              "      background-color: #E2EBFA;\n",
              "      box-shadow: 0px 1px 2px rgba(60, 64, 67, 0.3), 0px 1px 3px 1px rgba(60, 64, 67, 0.15);\n",
              "      fill: #174EA6;\n",
              "    }\n",
              "\n",
              "    [theme=dark] .colab-df-convert {\n",
              "      background-color: #3B4455;\n",
              "      fill: #D2E3FC;\n",
              "    }\n",
              "\n",
              "    [theme=dark] .colab-df-convert:hover {\n",
              "      background-color: #434B5C;\n",
              "      box-shadow: 0px 1px 3px 1px rgba(0, 0, 0, 0.15);\n",
              "      filter: drop-shadow(0px 1px 2px rgba(0, 0, 0, 0.3));\n",
              "      fill: #FFFFFF;\n",
              "    }\n",
              "  </style>\n",
              "\n",
              "      <script>\n",
              "        const buttonEl =\n",
              "          document.querySelector('#df-82d84ebe-7871-4902-b65f-1c5f60178780 button.colab-df-convert');\n",
              "        buttonEl.style.display =\n",
              "          google.colab.kernel.accessAllowed ? 'block' : 'none';\n",
              "\n",
              "        async function convertToInteractive(key) {\n",
              "          const element = document.querySelector('#df-82d84ebe-7871-4902-b65f-1c5f60178780');\n",
              "          const dataTable =\n",
              "            await google.colab.kernel.invokeFunction('convertToInteractive',\n",
              "                                                     [key], {});\n",
              "          if (!dataTable) return;\n",
              "\n",
              "          const docLinkHtml = 'Like what you see? Visit the ' +\n",
              "            '<a target=\"_blank\" href=https://colab.research.google.com/notebooks/data_table.ipynb>data table notebook</a>'\n",
              "            + ' to learn more about interactive tables.';\n",
              "          element.innerHTML = '';\n",
              "          dataTable['output_type'] = 'display_data';\n",
              "          await google.colab.output.renderOutput(dataTable, element);\n",
              "          const docLink = document.createElement('div');\n",
              "          docLink.innerHTML = docLinkHtml;\n",
              "          element.appendChild(docLink);\n",
              "        }\n",
              "      </script>\n",
              "    </div>\n",
              "  </div>\n",
              "  "
            ]
          },
          "metadata": {},
          "execution_count": 7
        }
      ]
    },
    {
      "cell_type": "code",
      "execution_count": null,
      "metadata": {
        "id": "hflfpKoKXIJY"
      },
      "outputs": [],
      "source": [
        "df.drop(['Unnamed: 0','Unnamed: 0.1'],axis=1, inplace=True)\n",
        "df[\"account_type\"].replace({\"bot\": 1, \"human\": 0}, inplace=True)\n",
        "df.rename(columns = {'account':'team_name', 'points':'points_scored'}, inplace = True)\n"
      ]
    },
    {
      "cell_type": "code",
      "source": [
        "df['length'] = df['description'].apply(len)\n",
        "df2= df.loc[df['account_type'] == 'bot']\n",
        "\n",
        "df3 = df.loc[df['account_type'] == 'human']\n",
        "\n",
        "df2['length'].hist()\n",
        "plt.show()\n",
        "\n",
        "df3['length'].hist()\n",
        "plt.show()"
      ],
      "metadata": {
        "id": "hhVCx8mkbfu-",
        "colab": {
          "base_uri": "https://localhost:8080/",
          "height": 513
        },
        "outputId": "b666384a-1129-40ae-c2dd-55dda5a1a64f"
      },
      "execution_count": null,
      "outputs": [
        {
          "output_type": "display_data",
          "data": {
            "text/plain": [
              "<Figure size 432x288 with 1 Axes>"
            ],
            "image/png": "[encoded data removed]"
          },
          "metadata": {
            "needs_background": "light"
          }
        },
        {
          "output_type": "display_data",
          "data": {
            "text/plain": [
              "<Figure size 432x288 with 1 Axes>"
            ],
            "image/png": "[encoded data removed]"
          },
          "metadata": {
            "needs_background": "light"
          }
        }
      ]
    },
    {
      "cell_type": "code",
      "source": [
        "def text_has_emoji(text):\n",
        "    for character in text:\n",
        "        if character in emoji.UNICODE_EMOJI:\n",
        "            return True\n",
        "    return False"
      ],
      "metadata": {
        "id": "TESf6gMzfowo"
      },
      "execution_count": null,
      "outputs": []
    },
    {
      "cell_type": "code",
      "source": [
        "df['contains_emoji'] = df['description'].apply(text_has_emoji)\n",
        "df['contains_tag'] = df.description.str.contains('#')\n",
        "df['contains_at'] = df.description.str.contains('@')\n",
        "df['contains_link'] = df.description.str.contains('https')"
      ],
      "metadata": {
        "id": "TS2KkNUcfuoK"
      },
      "execution_count": null,
      "outputs": []
    },
    {
      "cell_type": "code",
      "source": [
        "df.drop(['description'],axis=1, inplace=True)"
      ],
      "metadata": {
        "id": "aMpgJma-i-w3"
      },
      "execution_count": null,
      "outputs": []
    },
    {
      "cell_type": "code",
      "source": [
        "df_bot = df.loc[df['account_type'] == 'bot']\n",
        "df_human = df.loc[df['account_type'] == 'human']\n"
      ],
      "metadata": {
        "id": "Yvw0Io5pjoX3"
      },
      "execution_count": null,
      "outputs": []
    },
    {
      "cell_type": "code",
      "source": [
        "# create testing, training, and validation \n",
        "X_train, X_test= train_test_split(df_human, train_size=0.8, test_size=0.2)"
      ],
      "metadata": {
        "id": "LNEC-CVtkpyp"
      },
      "execution_count": null,
      "outputs": []
    },
    {
      "cell_type": "markdown",
      "source": [],
      "metadata": {
        "id": "F5LOo6xjlXtl"
      }
    },
    {
      "cell_type": "code",
      "source": [
        "X_train, X_valid = train_test_split(X_train, train_size=0.8, test_size=0.2)\n",
        "X_test = pd.concat([X_train, df_bot])"
      ],
      "metadata": {
        "id": "Jl4OzC2GnVKs"
      },
      "execution_count": null,
      "outputs": []
    },
    {
      "cell_type": "code",
      "source": [],
      "metadata": {
        "id": "-487qFq_mJVp"
      },
      "execution_count": null,
      "outputs": []
    },
    {
      "cell_type": "code",
      "source": [
        "len(X_train)"
      ],
      "metadata": {
        "colab": {
          "base_uri": "https://localhost:8080/"
        },
        "id": "Ew85_eUal4zx",
        "outputId": "3c7d3e06-6fe5-4c27-99eb-2b200483c6c7"
      },
      "execution_count": null,
      "outputs": [
        {
          "output_type": "execute_result",
          "data": {
            "text/plain": [
              "10375"
            ]
          },
          "metadata": {},
          "execution_count": 27
        }
      ]
    },
    {
      "cell_type": "code",
      "source": [
        "len(X_test)"
      ],
      "metadata": {
        "colab": {
          "base_uri": "https://localhost:8080/"
        },
        "id": "M8-ipCylnZ4y",
        "outputId": "1d29cb49-0e3b-4c07-8c6f-65ed79c13784"
      },
      "execution_count": null,
      "outputs": [
        {
          "output_type": "execute_result",
          "data": {
            "text/plain": [
              "3243"
            ]
          },
          "metadata": {},
          "execution_count": 28
        }
      ]
    },
    {
      "cell_type": "code",
      "source": [
        "len(X_valid)"
      ],
      "metadata": {
        "colab": {
          "base_uri": "https://localhost:8080/"
        },
        "id": "YMCjIZkPnSfW",
        "outputId": "08948c25-23ee-4b61-ef89-95b4d2c1e391"
      },
      "execution_count": null,
      "outputs": [
        {
          "output_type": "execute_result",
          "data": {
            "text/plain": [
              "2594"
            ]
          },
          "metadata": {},
          "execution_count": 29
        }
      ]
    },
    {
      "cell_type": "code",
      "source": [
        "import tensorflow as tf\n",
        "import seaborn as sns\n",
        "import random as rn\n",
        "\n",
        "# manual parameters\n",
        "RANDOM_SEED = 789\n",
        "TRAINING_SAMPLE = 200000\n",
        "VALIDATE_SIZE = 0.2\n",
        "\n",
        "# setting random seeds for libraries to ensure reproducibility\n",
        "np.random.seed(RANDOM_SEED)\n",
        "rn.seed(RANDOM_SEED)\n",
        "tf.set_random_seed(RANDOM_SEED)\n"
      ],
      "metadata": {
        "id": "f9pN29vtnNY1"
      },
      "execution_count": null,
      "outputs": []
    },
    {
      "cell_type": "code",
      "source": [
        "# manual parameter \n",
        "RATIO_TO_FRAUD = 20\n",
        "\n",
        "# concatenate with fraud transactions into a single dataframe\n",
        "visualisation_initial = pd.concat([df_human, df_bot])\n",
        "column_names = list(visualisation_initial.drop('account_type', axis=1).columns)\n",
        "\n",
        "# isolate features from labels \n",
        "features, labels = visualisation_initial.drop('account_type', axis=1).values, \\\n",
        "                   visualisation_initial.label.values"
      ],
      "metadata": {
        "id": "wnD__Ln_m2yf"
      },
      "execution_count": null,
      "outputs": []
    }
  ],
  "metadata": {
    "colab": {
      "provenance": [],
      "include_colab_link": true
    },
    "kernelspec": {
      "display_name": "Python 3",
      "name": "python3"
    },
    "language_info": {
      "name": "python"
    }
  },
  "nbformat": 4,
  "nbformat_minor": 0
}